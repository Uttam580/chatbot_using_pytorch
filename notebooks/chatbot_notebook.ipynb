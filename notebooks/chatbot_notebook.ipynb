{
 "cells": [
  {
   "cell_type": "code",
   "execution_count": 5,
   "metadata": {},
   "outputs": [],
   "source": [
    "import numpy as np\n",
    "import random\n",
    "import json\n",
    "\n",
    "#importing nlp library \n",
    "import nltk\n",
    "from nltk.stem.porter import PorterStemmer\n",
    "\n",
    "#importing pytorch library\n",
    "import torch\n",
    "import torch.nn as nn\n",
    "from torch.utils.data import DataLoader,Dataset\n"
   ]
  },
  {
   "cell_type": "code",
   "execution_count": 6,
   "metadata": {},
   "outputs": [
    {
     "name": "stdout",
     "output_type": "stream",
     "text": [
      "['/path/to/application/app/folder', 'C:\\\\Users\\\\Uttam\\\\Desktop\\\\Ds\\\\chatbot_using_pytorch\\\\notebooks', 'C:\\\\Users\\\\Uttam\\\\anaconda3\\\\envs\\\\envpytorch\\\\python37.zip', 'C:\\\\Users\\\\Uttam\\\\anaconda3\\\\envs\\\\envpytorch\\\\DLLs', 'C:\\\\Users\\\\Uttam\\\\anaconda3\\\\envs\\\\envpytorch\\\\lib', 'C:\\\\Users\\\\Uttam\\\\anaconda3\\\\envs\\\\envpytorch', '', 'C:\\\\Users\\\\Uttam\\\\AppData\\\\Roaming\\\\Python\\\\Python37\\\\site-packages', 'C:\\\\Users\\\\Uttam\\\\anaconda3\\\\envs\\\\envpytorch\\\\lib\\\\site-packages', 'C:\\\\Users\\\\Uttam\\\\anaconda3\\\\envs\\\\envpytorch\\\\lib\\\\site-packages\\\\win32', 'C:\\\\Users\\\\Uttam\\\\anaconda3\\\\envs\\\\envpytorch\\\\lib\\\\site-packages\\\\win32\\\\lib', 'C:\\\\Users\\\\Uttam\\\\anaconda3\\\\envs\\\\envpytorch\\\\lib\\\\site-packages\\\\Pythonwin', 'C:\\\\Users\\\\Uttam\\\\anaconda3\\\\envs\\\\envpytorch\\\\lib\\\\site-packages\\\\IPython\\\\extensions', 'C:\\\\Users\\\\Uttam\\\\.ipython', 'C:\\\\Users\\\\Uttam\\\\Desktop\\\\Ds\\\\chatbot_using_pytorch']\n",
      "**************\n",
      "C:\\Users\\Uttam\\Desktop\\Ds\\chatbot_using_pytorch\n"
     ]
    }
   ],
   "source": [
    "import os\n",
    "import sys\n",
    "print(sys.path)\n",
    "print('**************')\n",
    "module_path = os.path.abspath(os.path.join('..'))\n",
    "print(module_path)\n",
    "if module_path not in sys.path:\n",
    "    print('module path in not available hence appending it to sys.path')\n",
    "    sys.path.append(module_path)\n",
    "    print('module appended')"
   ]
  },
  {
   "cell_type": "code",
   "execution_count": 8,
   "metadata": {},
   "outputs": [],
   "source": [
    "#importing custom modules\n",
    "from src.nltk_utils import bag_of_words, tokenize, stem\n",
    "from src.model import NeuralNet"
   ]
  },
  {
   "cell_type": "markdown",
   "metadata": {},
   "source": [
    "#### Basic understanding aboot tokenize , stemmimg and bag_of_words"
   ]
  },
  {
   "cell_type": "markdown",
   "metadata": {},
   "source": [
    "##### Tokenization"
   ]
  },
  {
   "cell_type": "code",
   "execution_count": 16,
   "metadata": {},
   "outputs": [
    {
     "name": "stdout",
     "output_type": "stream",
     "text": [
      "How are you john\n",
      "tokenised sentence \n",
      "['How', 'are', 'you', 'john']\n"
     ]
    }
   ],
   "source": [
    "sentence = 'How are you john'\n",
    "print(sentence)\n",
    "print('tokenised sentence ')\n",
    "print(tokenize(sentence))"
   ]
  },
  {
   "cell_type": "markdown",
   "metadata": {},
   "source": [
    "##### Stemming"
   ]
  },
  {
   "cell_type": "code",
   "execution_count": 17,
   "metadata": {},
   "outputs": [
    {
     "name": "stdout",
     "output_type": "stream",
     "text": [
      "['organize', 'organizes', 'organizing']\n"
     ]
    }
   ],
   "source": [
    "words = [\"organize\", \"organizes\", \"organizing\"]\n",
    "print(words)"
   ]
  },
  {
   "cell_type": "code",
   "execution_count": 18,
   "metadata": {},
   "outputs": [
    {
     "name": "stdout",
     "output_type": "stream",
     "text": [
      "['organ', 'organ', 'organ']\n"
     ]
    }
   ],
   "source": [
    "words = [stem(w) for w in words]\n",
    "print(words)"
   ]
  },
  {
   "cell_type": "markdown",
   "metadata": {},
   "source": [
    "##### Bag of words"
   ]
  },
  {
   "cell_type": "code",
   "execution_count": 20,
   "metadata": {},
   "outputs": [],
   "source": [
    "words = [\"hi\", \"hello\", \"I\", \"you\", \"bye\", \"thank\", \"cool\"]\n",
    "sentence = [\"hello\", \"how\", \"are\", \"you\"]"
   ]
  },
  {
   "cell_type": "code",
   "execution_count": 21,
   "metadata": {},
   "outputs": [
    {
     "data": {
      "text/plain": [
       "array([0., 1., 0., 1., 0., 0., 0.], dtype=float32)"
      ]
     },
     "execution_count": 21,
     "metadata": {},
     "output_type": "execute_result"
    }
   ],
   "source": [
    "#return bag of words array:1 for each known word that exists in the sentence, 0 otherwise\n",
    "bag_of_words(sentence,words)"
   ]
  },
  {
   "cell_type": "code",
   "execution_count": 27,
   "metadata": {},
   "outputs": [
    {
     "name": "stdout",
     "output_type": "stream",
     "text": [
      "{'intents': [{'tag': 'greeting', 'patterns': ['Hi', 'Hey', 'How are you', 'Is anyone there?', 'Hello', 'Good day'], 'responses': ['Hey :-)', 'Hello, thanks for visiting', 'Hi there, what can I do for you?', 'Hi there, how can I help?']}, {'tag': 'goodbye', 'patterns': ['Bye', 'See you later', 'Goodbye'], 'responses': ['See you later, thanks for visiting', 'Have a nice day', 'Bye! Come back again soon.']}, {'tag': 'thanks', 'patterns': ['Thanks', 'Thank you', \"That's helpful\", \"Thank's a lot!\"], 'responses': ['Happy to help!', 'Any time!', 'My pleasure']}, {'tag': 'items', 'patterns': ['Which items do you have?', 'What kinds of items are there?', 'What do you sell?'], 'responses': ['We sell coffee and tea', 'We have coffee and tea']}, {'tag': 'payments', 'patterns': ['what are the payment method available', 'can i pay cash', 'Do you take credit cards?', 'Do you accept Mastercard?', 'Can I pay with GPay?', 'Are you cash only?'], 'responses': ['We accept VISA, Mastercard and Gpay,Paytm,', 'We accept most major credit cards, and Gpay,Paytm']}, {'tag': 'delivery', 'patterns': ['How long does delivery take?', 'How long does shipping take?', 'When do I get my delivery?'], 'responses': ['Delivery takes 10-15 minutes', 'Shipping takes 10-15 minutes']}, {'tag': 'price', 'patterns': ['what is price of tea ?', 'What is price of coffee', 'how much i have to pay?', 'Please tell me price of tea ', 'please tell me price of coffee'], 'responses': ['Tea price is 5 INR and coffee price is 10 INR', '10 INR for coffee , 5 INR for Tea']}, {'tag': 'order', 'patterns': ['Please take order.', 'Can You please order me a tea', 'Please give me coffe with extra sugar'], 'responses': ['sure sir !', 'your item has ordered.']}, {'tag': 'funny', 'patterns': ['Tell me a joke!', 'Tell me something funny!', 'Do you know a joke?'], 'responses': ['Can a kangaroo jump higher than the Empire State Building?', 'Why was six scared of seven?', \"What happens to a frog's car when it breaks down\"]}]}\n"
     ]
    }
   ],
   "source": [
    "with open(f'C:\\\\Users\\\\Uttam\\\\Desktop\\\\Ds\\\\chatbot_using_pytorch\\\\input\\\\intents.json', 'r') as f:\n",
    "    intents = json.load(f)\n",
    "    print(intents)"
   ]
  },
  {
   "cell_type": "code",
   "execution_count": 28,
   "metadata": {},
   "outputs": [],
   "source": [
    "all_words = []\n",
    "tags = []\n",
    "xy = []"
   ]
  },
  {
   "cell_type": "code",
   "execution_count": 29,
   "metadata": {},
   "outputs": [],
   "source": [
    "# loop through each sentence in our intents patterns\n",
    "for intent in intents['intents']:\n",
    "    tag = intent['tag']\n",
    "    # add to tag list\n",
    "    tags.append(tag)\n",
    "    for pattern in intent['patterns']:\n",
    "        # tokenize each word in the sentence\n",
    "        w = tokenize(pattern)\n",
    "        # add to our words list\n",
    "        all_words.extend(w)\n",
    "        # add to xy pair\n",
    "        xy.append((w, tag))"
   ]
  },
  {
   "cell_type": "code",
   "execution_count": 31,
   "metadata": {},
   "outputs": [
    {
     "data": {
      "text/plain": [
       "['greeting',\n",
       " 'goodbye',\n",
       " 'thanks',\n",
       " 'items',\n",
       " 'payments',\n",
       " 'delivery',\n",
       " 'price',\n",
       " 'order',\n",
       " 'funny']"
      ]
     },
     "execution_count": 31,
     "metadata": {},
     "output_type": "execute_result"
    }
   ],
   "source": [
    "tags"
   ]
  },
  {
   "cell_type": "code",
   "execution_count": 32,
   "metadata": {},
   "outputs": [
    {
     "data": {
      "text/plain": [
       "['Hi',\n",
       " 'Hey',\n",
       " 'How',\n",
       " 'are',\n",
       " 'you',\n",
       " 'Is',\n",
       " 'anyone',\n",
       " 'there',\n",
       " '?',\n",
       " 'Hello',\n",
       " 'Good',\n",
       " 'day',\n",
       " 'Bye',\n",
       " 'See',\n",
       " 'you',\n",
       " 'later',\n",
       " 'Goodbye',\n",
       " 'Thanks',\n",
       " 'Thank',\n",
       " 'you',\n",
       " 'That',\n",
       " \"'s\",\n",
       " 'helpful',\n",
       " 'Thank',\n",
       " \"'s\",\n",
       " 'a',\n",
       " 'lot',\n",
       " '!',\n",
       " 'Which',\n",
       " 'items',\n",
       " 'do',\n",
       " 'you',\n",
       " 'have',\n",
       " '?',\n",
       " 'What',\n",
       " 'kinds',\n",
       " 'of',\n",
       " 'items',\n",
       " 'are',\n",
       " 'there',\n",
       " '?',\n",
       " 'What',\n",
       " 'do',\n",
       " 'you',\n",
       " 'sell',\n",
       " '?',\n",
       " 'what',\n",
       " 'are',\n",
       " 'the',\n",
       " 'payment',\n",
       " 'method',\n",
       " 'available',\n",
       " 'can',\n",
       " 'i',\n",
       " 'pay',\n",
       " 'cash',\n",
       " 'Do',\n",
       " 'you',\n",
       " 'take',\n",
       " 'credit',\n",
       " 'cards',\n",
       " '?',\n",
       " 'Do',\n",
       " 'you',\n",
       " 'accept',\n",
       " 'Mastercard',\n",
       " '?',\n",
       " 'Can',\n",
       " 'I',\n",
       " 'pay',\n",
       " 'with',\n",
       " 'GPay',\n",
       " '?',\n",
       " 'Are',\n",
       " 'you',\n",
       " 'cash',\n",
       " 'only',\n",
       " '?',\n",
       " 'How',\n",
       " 'long',\n",
       " 'does',\n",
       " 'delivery',\n",
       " 'take',\n",
       " '?',\n",
       " 'How',\n",
       " 'long',\n",
       " 'does',\n",
       " 'shipping',\n",
       " 'take',\n",
       " '?',\n",
       " 'When',\n",
       " 'do',\n",
       " 'I',\n",
       " 'get',\n",
       " 'my',\n",
       " 'delivery',\n",
       " '?',\n",
       " 'what',\n",
       " 'is',\n",
       " 'price',\n",
       " 'of',\n",
       " 'tea',\n",
       " '?',\n",
       " 'What',\n",
       " 'is',\n",
       " 'price',\n",
       " 'of',\n",
       " 'coffee',\n",
       " 'how',\n",
       " 'much',\n",
       " 'i',\n",
       " 'have',\n",
       " 'to',\n",
       " 'pay',\n",
       " '?',\n",
       " 'Please',\n",
       " 'tell',\n",
       " 'me',\n",
       " 'price',\n",
       " 'of',\n",
       " 'tea',\n",
       " 'please',\n",
       " 'tell',\n",
       " 'me',\n",
       " 'price',\n",
       " 'of',\n",
       " 'coffee',\n",
       " 'Please',\n",
       " 'take',\n",
       " 'order',\n",
       " '.',\n",
       " 'Can',\n",
       " 'You',\n",
       " 'please',\n",
       " 'order',\n",
       " 'me',\n",
       " 'a',\n",
       " 'tea',\n",
       " 'Please',\n",
       " 'give',\n",
       " 'me',\n",
       " 'coffe',\n",
       " 'with',\n",
       " 'extra',\n",
       " 'sugar',\n",
       " 'Tell',\n",
       " 'me',\n",
       " 'a',\n",
       " 'joke',\n",
       " '!',\n",
       " 'Tell',\n",
       " 'me',\n",
       " 'something',\n",
       " 'funny',\n",
       " '!',\n",
       " 'Do',\n",
       " 'you',\n",
       " 'know',\n",
       " 'a',\n",
       " 'joke',\n",
       " '?']"
      ]
     },
     "execution_count": 32,
     "metadata": {},
     "output_type": "execute_result"
    }
   ],
   "source": [
    "all_words"
   ]
  },
  {
   "cell_type": "code",
   "execution_count": 33,
   "metadata": {},
   "outputs": [
    {
     "data": {
      "text/plain": [
       "[(['Hi'], 'greeting'),\n",
       " (['Hey'], 'greeting'),\n",
       " (['How', 'are', 'you'], 'greeting'),\n",
       " (['Is', 'anyone', 'there', '?'], 'greeting'),\n",
       " (['Hello'], 'greeting'),\n",
       " (['Good', 'day'], 'greeting'),\n",
       " (['Bye'], 'goodbye'),\n",
       " (['See', 'you', 'later'], 'goodbye'),\n",
       " (['Goodbye'], 'goodbye'),\n",
       " (['Thanks'], 'thanks'),\n",
       " (['Thank', 'you'], 'thanks'),\n",
       " (['That', \"'s\", 'helpful'], 'thanks'),\n",
       " (['Thank', \"'s\", 'a', 'lot', '!'], 'thanks'),\n",
       " (['Which', 'items', 'do', 'you', 'have', '?'], 'items'),\n",
       " (['What', 'kinds', 'of', 'items', 'are', 'there', '?'], 'items'),\n",
       " (['What', 'do', 'you', 'sell', '?'], 'items'),\n",
       " (['what', 'are', 'the', 'payment', 'method', 'available'], 'payments'),\n",
       " (['can', 'i', 'pay', 'cash'], 'payments'),\n",
       " (['Do', 'you', 'take', 'credit', 'cards', '?'], 'payments'),\n",
       " (['Do', 'you', 'accept', 'Mastercard', '?'], 'payments'),\n",
       " (['Can', 'I', 'pay', 'with', 'GPay', '?'], 'payments'),\n",
       " (['Are', 'you', 'cash', 'only', '?'], 'payments'),\n",
       " (['How', 'long', 'does', 'delivery', 'take', '?'], 'delivery'),\n",
       " (['How', 'long', 'does', 'shipping', 'take', '?'], 'delivery'),\n",
       " (['When', 'do', 'I', 'get', 'my', 'delivery', '?'], 'delivery'),\n",
       " (['what', 'is', 'price', 'of', 'tea', '?'], 'price'),\n",
       " (['What', 'is', 'price', 'of', 'coffee'], 'price'),\n",
       " (['how', 'much', 'i', 'have', 'to', 'pay', '?'], 'price'),\n",
       " (['Please', 'tell', 'me', 'price', 'of', 'tea'], 'price'),\n",
       " (['please', 'tell', 'me', 'price', 'of', 'coffee'], 'price'),\n",
       " (['Please', 'take', 'order', '.'], 'order'),\n",
       " (['Can', 'You', 'please', 'order', 'me', 'a', 'tea'], 'order'),\n",
       " (['Please', 'give', 'me', 'coffe', 'with', 'extra', 'sugar'], 'order'),\n",
       " (['Tell', 'me', 'a', 'joke', '!'], 'funny'),\n",
       " (['Tell', 'me', 'something', 'funny', '!'], 'funny'),\n",
       " (['Do', 'you', 'know', 'a', 'joke', '?'], 'funny')]"
      ]
     },
     "execution_count": 33,
     "metadata": {},
     "output_type": "execute_result"
    }
   ],
   "source": [
    "xy"
   ]
  },
  {
   "cell_type": "code",
   "execution_count": 34,
   "metadata": {},
   "outputs": [],
   "source": [
    "# stem and lower each word\n",
    "ignore_words = ['?', '.', '!']\n",
    "all_words = [stem(w) for w in all_words if w not in ignore_words]\n",
    "# remove duplicates and sort\n",
    "all_words = sorted(set(all_words))\n",
    "tags = sorted(set(tags))"
   ]
  },
  {
   "cell_type": "code",
   "execution_count": 35,
   "metadata": {},
   "outputs": [
    {
     "name": "stdout",
     "output_type": "stream",
     "text": [
      "36 patterns\n",
      "9 tags: ['delivery', 'funny', 'goodbye', 'greeting', 'items', 'order', 'payments', 'price', 'thanks']\n",
      "69 unique stemmed words: [\"'s\", 'a', 'accept', 'anyon', 'are', 'avail', 'bye', 'can', 'card', 'cash', 'coff', 'coffe', 'credit', 'day', 'deliveri', 'do', 'doe', 'extra', 'funni', 'get', 'give', 'good', 'goodby', 'gpay', 'have', 'hello', 'help', 'hey', 'hi', 'how', 'i', 'is', 'item', 'joke', 'kind', 'know', 'later', 'long', 'lot', 'mastercard', 'me', 'method', 'much', 'my', 'of', 'onli', 'order', 'pay', 'payment', 'pleas', 'price', 'see', 'sell', 'ship', 'someth', 'sugar', 'take', 'tea', 'tell', 'thank', 'that', 'the', 'there', 'to', 'what', 'when', 'which', 'with', 'you']\n"
     ]
    }
   ],
   "source": [
    "print(len(xy), \"patterns\")\n",
    "print(len(tags), \"tags:\", tags)\n",
    "print(len(all_words), \"unique stemmed words:\", all_words)"
   ]
  },
  {
   "cell_type": "code",
   "execution_count": 36,
   "metadata": {},
   "outputs": [],
   "source": [
    "# create training data\n",
    "X_train = []\n",
    "y_train = []"
   ]
  },
  {
   "cell_type": "code",
   "execution_count": 37,
   "metadata": {},
   "outputs": [],
   "source": [
    "for (pattern_sentence, tag) in xy:\n",
    "    # X: bag of words for each pattern_sentence\n",
    "    bag = bag_of_words(pattern_sentence, all_words)\n",
    "    X_train.append(bag)\n",
    "    # y: PyTorch CrossEntropyLoss needs only class labels, not one-hot\n",
    "    label = tags.index(tag)\n",
    "    y_train.append(label)"
   ]
  },
  {
   "cell_type": "code",
   "execution_count": 38,
   "metadata": {},
   "outputs": [
    {
     "name": "stdout",
     "output_type": "stream",
     "text": [
      "(36, 69) (36,)\n"
     ]
    }
   ],
   "source": [
    "X_train = np.array(X_train)\n",
    "y_train = np.array(y_train)\n",
    "print(X_train.shape, y_train.shape)"
   ]
  },
  {
   "cell_type": "code",
   "execution_count": 39,
   "metadata": {},
   "outputs": [
    {
     "name": "stdout",
     "output_type": "stream",
     "text": [
      "69 9\n"
     ]
    }
   ],
   "source": [
    "# Hyper-parameters \n",
    "num_epochs = 1000\n",
    "batch_size = 8\n",
    "learning_rate = 0.001\n",
    "input_size = len(X_train[0])\n",
    "hidden_size = 8\n",
    "output_size = len(tags)\n",
    "print(input_size, output_size)"
   ]
  },
  {
   "cell_type": "code",
   "execution_count": 40,
   "metadata": {},
   "outputs": [],
   "source": [
    "class ChatDataset(Dataset):\n",
    "\n",
    "    def __init__(self):\n",
    "        self.n_samples = len(X_train)\n",
    "        self.x_data = X_train\n",
    "        self.y_data = y_train\n",
    "\n",
    "    # support indexing such that dataset[i] can be used to get i-th sample\n",
    "    def __getitem__(self, index):\n",
    "        return self.x_data[index], self.y_data[index]\n",
    "\n",
    "    # we can call len(dataset) to return the size\n",
    "    def __len__(self):\n",
    "        return self.n_samples"
   ]
  },
  {
   "cell_type": "code",
   "execution_count": 41,
   "metadata": {},
   "outputs": [
    {
     "name": "stdout",
     "output_type": "stream",
     "text": [
      "<__main__.ChatDataset object at 0x000002A8D4879240>\n"
     ]
    }
   ],
   "source": [
    "dataset = ChatDataset()\n",
    "print(dataset)"
   ]
  },
  {
   "cell_type": "code",
   "execution_count": 42,
   "metadata": {},
   "outputs": [
    {
     "name": "stdout",
     "output_type": "stream",
     "text": [
      "<torch.utils.data.dataloader.DataLoader object at 0x000002A8D4A04EF0>\n"
     ]
    }
   ],
   "source": [
    "train_loader = DataLoader(dataset=dataset,\n",
    "                          batch_size=batch_size,\n",
    "                          shuffle=True,\n",
    "                          num_workers=0)\n",
    "print(train_loader)"
   ]
  },
  {
   "cell_type": "code",
   "execution_count": 43,
   "metadata": {},
   "outputs": [
    {
     "data": {
      "text/plain": [
       "[tensor([[0., 0., 0., 0., 0., 0., 0., 0., 0., 0., 0., 0., 0., 0., 0., 0., 0., 0.,\n",
       "          0., 0., 0., 0., 0., 0., 0., 0., 0., 0., 0., 0., 0., 1., 0., 0., 0., 0.,\n",
       "          0., 0., 0., 0., 0., 0., 0., 0., 1., 0., 0., 0., 0., 0., 1., 0., 0., 0.,\n",
       "          0., 0., 0., 1., 0., 0., 0., 0., 0., 0., 1., 0., 0., 0., 0.],\n",
       "         [1., 1., 0., 0., 0., 0., 0., 0., 0., 0., 0., 0., 0., 0., 0., 0., 0., 0.,\n",
       "          0., 0., 0., 0., 0., 0., 0., 0., 0., 0., 0., 0., 0., 0., 0., 0., 0., 0.,\n",
       "          0., 0., 1., 0., 0., 0., 0., 0., 0., 0., 0., 0., 0., 0., 0., 0., 0., 0.,\n",
       "          0., 0., 0., 0., 0., 1., 0., 0., 0., 0., 0., 0., 0., 0., 0.],\n",
       "         [0., 0., 0., 0., 0., 0., 0., 1., 0., 0., 0., 0., 0., 0., 0., 0., 0., 0.,\n",
       "          0., 0., 0., 0., 0., 1., 0., 0., 0., 0., 0., 0., 1., 0., 0., 0., 0., 0.,\n",
       "          0., 0., 0., 0., 0., 0., 0., 0., 0., 0., 0., 1., 0., 0., 0., 0., 0., 0.,\n",
       "          0., 0., 0., 0., 0., 0., 0., 0., 0., 0., 0., 0., 0., 1., 0.],\n",
       "         [0., 0., 0., 0., 0., 0., 1., 0., 0., 0., 0., 0., 0., 0., 0., 0., 0., 0.,\n",
       "          0., 0., 0., 0., 0., 0., 0., 0., 0., 0., 0., 0., 0., 0., 0., 0., 0., 0.,\n",
       "          0., 0., 0., 0., 0., 0., 0., 0., 0., 0., 0., 0., 0., 0., 0., 0., 0., 0.,\n",
       "          0., 0., 0., 0., 0., 0., 0., 0., 0., 0., 0., 0., 0., 0., 0.],\n",
       "         [0., 0., 0., 0., 1., 0., 0., 0., 0., 1., 0., 0., 0., 0., 0., 0., 0., 0.,\n",
       "          0., 0., 0., 0., 0., 0., 0., 0., 0., 0., 0., 0., 0., 0., 0., 0., 0., 0.,\n",
       "          0., 0., 0., 0., 0., 0., 0., 0., 0., 1., 0., 0., 0., 0., 0., 0., 0., 0.,\n",
       "          0., 0., 0., 0., 0., 0., 0., 0., 0., 0., 0., 0., 0., 0., 1.],\n",
       "         [0., 0., 0., 0., 1., 0., 0., 0., 0., 0., 0., 0., 0., 0., 0., 0., 0., 0.,\n",
       "          0., 0., 0., 0., 0., 0., 0., 0., 0., 0., 0., 0., 0., 0., 1., 0., 1., 0.,\n",
       "          0., 0., 0., 0., 0., 0., 0., 0., 1., 0., 0., 0., 0., 0., 0., 0., 0., 0.,\n",
       "          0., 0., 0., 0., 0., 0., 0., 0., 1., 0., 1., 0., 0., 0., 0.],\n",
       "         [0., 0., 0., 0., 0., 0., 0., 0., 0., 0., 0., 0., 0., 0., 0., 1., 0., 0.,\n",
       "          0., 0., 0., 0., 0., 0., 0., 0., 0., 0., 0., 0., 0., 0., 0., 0., 0., 0.,\n",
       "          0., 0., 0., 0., 0., 0., 0., 0., 0., 0., 0., 0., 0., 0., 0., 0., 1., 0.,\n",
       "          0., 0., 0., 0., 0., 0., 0., 0., 0., 0., 1., 0., 0., 0., 1.],\n",
       "         [0., 0., 0., 0., 0., 0., 0., 0., 0., 0., 0., 0., 0., 0., 0., 0., 0., 0.,\n",
       "          0., 0., 0., 0., 0., 0., 0., 0., 0., 0., 0., 0., 0., 0., 0., 0., 0., 0.,\n",
       "          0., 0., 0., 0., 0., 0., 0., 0., 0., 0., 0., 0., 0., 0., 0., 0., 0., 0.,\n",
       "          0., 0., 0., 0., 0., 1., 0., 0., 0., 0., 0., 0., 0., 0., 1.]]),\n",
       " tensor([7, 8, 6, 2, 6, 4, 4, 8], dtype=torch.int32)]"
      ]
     },
     "execution_count": 43,
     "metadata": {},
     "output_type": "execute_result"
    }
   ],
   "source": [
    "train_set = iter(train_loader)\n",
    "next(train_set)# this is input, outout  for one batch "
   ]
  },
  {
   "cell_type": "code",
   "execution_count": 44,
   "metadata": {},
   "outputs": [
    {
     "name": "stdout",
     "output_type": "stream",
     "text": [
      "NeuralNet(\n",
      "  (l1): Linear(in_features=69, out_features=8, bias=True)\n",
      "  (l2): Linear(in_features=8, out_features=8, bias=True)\n",
      "  (l3): Linear(in_features=8, out_features=9, bias=True)\n",
      "  (relu): ReLU()\n",
      ")\n"
     ]
    }
   ],
   "source": [
    "#device = torch.device('cuda' if torch.cuda.is_available() else 'cpu')\n",
    "model = NeuralNet(input_size, hidden_size, output_size)\n",
    "print(model)"
   ]
  },
  {
   "cell_type": "code",
   "execution_count": 45,
   "metadata": {},
   "outputs": [
    {
     "name": "stdout",
     "output_type": "stream",
     "text": [
      "CrossEntropyLoss()\n",
      "Adam (\n",
      "Parameter Group 0\n",
      "    amsgrad: False\n",
      "    betas: (0.9, 0.999)\n",
      "    eps: 1e-08\n",
      "    lr: 0.001\n",
      "    weight_decay: 0\n",
      ")\n"
     ]
    }
   ],
   "source": [
    "# Loss and optimizer\n",
    "criterion = nn.CrossEntropyLoss()\n",
    "print(criterion)\n",
    "optimizer = torch.optim.Adam(model.parameters(), lr=learning_rate)\n",
    "print(optimizer)"
   ]
  },
  {
   "cell_type": "code",
   "execution_count": 46,
   "metadata": {},
   "outputs": [
    {
     "name": "stdout",
     "output_type": "stream",
     "text": [
      "Epoch [100/1000], Loss: 0.5564\n",
      "Epoch [200/1000], Loss: 0.1156\n",
      "Epoch [300/1000], Loss: 0.0073\n",
      "Epoch [400/1000], Loss: 0.0055\n",
      "Epoch [500/1000], Loss: 0.0022\n",
      "Epoch [600/1000], Loss: 0.0013\n",
      "Epoch [700/1000], Loss: 0.0016\n",
      "Epoch [800/1000], Loss: 0.0008\n",
      "Epoch [900/1000], Loss: 0.0004\n",
      "Epoch [1000/1000], Loss: 0.0003\n",
      "final loss: 0.0003\n"
     ]
    }
   ],
   "source": [
    "# Train the model\n",
    "for epoch in range(num_epochs):\n",
    "    for (words, labels) in train_loader:\n",
    "        labels = labels.type(torch.LongTensor)\n",
    "        \n",
    "        # Forward pass\n",
    "        outputs = model(words)\n",
    "        # if y would be one-hot, we must apply\n",
    "        # labels = torch.max(labels, 1)[1]\n",
    "        loss = criterion(outputs, labels)\n",
    "        \n",
    "        # Backward and optimize\n",
    "        optimizer.zero_grad()\n",
    "        loss.backward()\n",
    "        optimizer.step()\n",
    "        \n",
    "    if (epoch+1) % 100 == 0:\n",
    "        print (f'Epoch [{epoch+1}/{num_epochs}], Loss: {loss.item():.4f}')\n",
    "\n",
    "\n",
    "print(f'final loss: {loss.item():.4f}')"
   ]
  },
  {
   "cell_type": "code",
   "execution_count": null,
   "metadata": {},
   "outputs": [],
   "source": []
  }
 ],
 "metadata": {
  "kernelspec": {
   "display_name": "Python 3",
   "language": "python",
   "name": "python3"
  },
  "language_info": {
   "codemirror_mode": {
    "name": "ipython",
    "version": 3
   },
   "file_extension": ".py",
   "mimetype": "text/x-python",
   "name": "python",
   "nbconvert_exporter": "python",
   "pygments_lexer": "ipython3",
   "version": "3.7.3"
  }
 },
 "nbformat": 4,
 "nbformat_minor": 4
}
